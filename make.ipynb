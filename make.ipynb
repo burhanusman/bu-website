{
 "cells": [
  {
   "cell_type": "code",
   "execution_count": 122,
   "metadata": {},
   "outputs": [],
   "source": [
    "# Load libraries\n",
    "import os\n",
    "import re\n",
    "import fileinput\n",
    "import sys\n",
    "from glob import glob\n",
    "import shutil\n",
    "\n",
    "\n",
    "# Create path to content\n",
    "path = 'content/'"
   ]
  },
  {
   "cell_type": "markdown",
   "metadata": {},
   "source": [
    "## Find All Jupyter Notebooks"
   ]
  },
  {
   "cell_type": "code",
   "execution_count": 123,
   "metadata": {},
   "outputs": [],
   "source": [
    "# Find all jupyter notebooks in all content folders\n",
    "all_ipynb_files = [os.path.join(root, name)\n",
    "                   for root, dirs, files in os.walk(path)\n",
    "                       for name in files\n",
    "                           if name.endswith((\".ipynb\"))]\n",
    "\n",
    "# Remove all notebooks from checkpoint folders\n",
    "ipynb_files = [ x for x in all_ipynb_files if \".ipynb_checkpoints\" not in x ]"
   ]
  },
  {
   "cell_type": "code",
   "execution_count": 124,
   "metadata": {},
   "outputs": [
    {
     "data": {
      "text/plain": [
       "['content/notes\\\\DeepLearning\\\\Toy Classification Pytorch\\\\Toy_Classification_Pytorch.ipynb',\n",
       " 'content/notes\\\\NLP\\\\universal_sentence_encoder_for_text_similarity.ipynb',\n",
       " 'content/notes\\\\Python\\\\display_size_of_variables.ipynb',\n",
       " 'content/notes\\\\Statistics\\\\plotting_a_normal_curve.ipynb']"
      ]
     },
     "execution_count": 124,
     "metadata": {},
     "output_type": "execute_result"
    }
   ],
   "source": [
    "ipynb_files"
   ]
  },
  {
   "cell_type": "code",
   "execution_count": 125,
   "metadata": {},
   "outputs": [],
   "source": [
    "# For each file\n",
    "for file in ipynb_files:\n",
    "    # Convert into markdown\n",
    "    os.system('jupyter nbconvert --to markdown \"{file}\"'.format(file=file))"
   ]
  },
  {
   "cell_type": "code",
   "execution_count": 126,
   "metadata": {},
   "outputs": [],
   "source": [
    "# Get all folders in directory\n",
    "folders = [x[0] for x in os.walk(path)]\n",
    "\n",
    "# Delete .ipynb checkpoint folders\n",
    "folders = [ x for x in folders if \".ipynb_checkpoints\" not in x ]\n",
    "\n",
    "# For each folder\n",
    "for folder_name in folders:\n",
    "    # if _files in folder name\n",
    "    if '_files' in folder_name:\n",
    "        \n",
    "        # Create a new folder name\n",
    "        def rchop(thestring, ending):\n",
    "            if thestring.endswith(ending):\n",
    "                return thestring[:-len(ending)]\n",
    "            return thestring\n",
    "\n",
    "        new_folder_name = rchop(folder_name, '_files')\n",
    "        \n",
    "        # try to rename original folder\n",
    "        try:\n",
    "            os.rename(folder_name, new_folder_name)\n",
    "            # if error, \n",
    "        except OSError:\n",
    "            existing_base_folder = os.getcwd()+\"/\"+new_folder_name\n",
    "            justcreated_base_folder = os.getcwd()+\"/\"+folder_name\n",
    "                 \n",
    "            # get a list of all files in the folder\n",
    "            generated_files = os.listdir(justcreated_base_folder)\n",
    "            \n",
    "            # copy each file to the existing folder\n",
    "            for generated_file in generated_files:\n",
    "                to_copy = justcreated_base_folder+\"/\"+generated_file\n",
    "                shutil.copy(to_copy, existing_base_folder)\n",
    "  \n",
    "            # delete the newly created _files folder\n",
    "            shutil.rmtree(justcreated_base_folder)"
   ]
  },
  {
   "cell_type": "code",
   "execution_count": 127,
   "metadata": {},
   "outputs": [],
   "source": [
    "# def replaceAll(file,searchExp,replaceExp):\n",
    "#     for line in fileinput.input(file, inplace=1):\n",
    "#         if searchExp in line:\n",
    "#             line = line.replace(searchExp,replaceExp)\n",
    "#         sys.stdout.write(line)\n",
    "\n",
    "def replaceAll(file,searchExp,replaceExp):\n",
    "    with open(file,'r') as f:\n",
    "        new_file=[]\n",
    "        for line in f.readlines():\n",
    "            if link in line:\n",
    "                line = line.replace(searchExp,replaceExp)\n",
    "            new_file.append(line)\n",
    "    with open(file,'w') as f:\n",
    "        f.writelines(new_file)\n",
    "\n",
    "# Find all markdown files in all content folders\n",
    "all_md_files = [os.path.join(root, name)\n",
    "               for root, dirs, files in os.walk(path)\n",
    "               for name in files\n",
    "               if name.endswith((\".md\"))]\n",
    "\n",
    "for file in all_md_files:\n",
    "    with open(file,'r') as f:\n",
    "        filedata = f.read()\n",
    "        # Find all markdown link syntaxes\n",
    "        md_links = re.findall('!\\\\[[^\\\\]]+\\\\]\\\\([^)]+\\\\)', filedata)\n",
    "\n",
    "        # For each markdown link\n",
    "        for link in md_links:\n",
    "            # Replace the full file path\n",
    "            md_image_path = re.search(r'\\((.*?)\\)', link).group(1)\n",
    "            md_image_filename = os.path.basename(md_image_path)\n",
    "            md_image_title = re.search(r'\\[(.*?)\\]', link).group(1)\n",
    "\n",
    "            new_link = \"![\"+md_image_title+\"](\"+md_image_filename+\")\"\n",
    "\n",
    "            replaceAll(file, link, new_link)"
   ]
  },
  {
   "cell_type": "code",
   "execution_count": null,
   "metadata": {},
   "outputs": [],
   "source": []
  }
 ],
 "metadata": {
  "kernelspec": {
   "display_name": "Python 3",
   "language": "python",
   "name": "python3"
  },
  "language_info": {
   "codemirror_mode": {
    "name": "ipython",
    "version": 3
   },
   "file_extension": ".py",
   "mimetype": "text/x-python",
   "name": "python",
   "nbconvert_exporter": "python",
   "pygments_lexer": "ipython3",
   "version": "3.7.4"
  }
 },
 "nbformat": 4,
 "nbformat_minor": 2
}
